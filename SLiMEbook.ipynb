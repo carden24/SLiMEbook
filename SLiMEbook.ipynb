{
 "metadata": {
  "name": "",
  "signature": "sha256:9ca2e2b758031a040e9001868cef1ca82907385075b3752544375f075fef6984"
 },
 "nbformat": 3,
 "nbformat_minor": 0,
 "worksheets": [
  {
   "cells": [
    {
     "cell_type": "heading",
     "level": 1,
     "metadata": {},
     "source": [
      "Classifying pediatric IBD stool samples"
     ]
    },
    {
     "cell_type": "markdown",
     "metadata": {},
     "source": [
      "This notebook is a recoding of the analysis used in the PLoSONE paper: [Non-Invasive Mapping of the Gastrointestinal Microbiota Identifies Children with Inflammatory Bowel Disease](http://www.plosone.org/article/info%3Adoi%2F10.1371%2Fjournal.pone.0039242) using python, sklearn and pandas.\n",
      "\n",
      "We decided that the SLiME package, as it was packaged for the publication of the paper, should not be available anymore. This notebook replaces it, replicating the analysis executed on the paper with more up-to-date tools and (hopefully soon) expanding on its conclusion. \n",
      "I hope this can be the starting point for others trying to follow the same approach and improve upon it. "
     ]
    },
    {
     "cell_type": "code",
     "collapsed": false,
     "input": [
      "%matplotlib inline"
     ],
     "language": "python",
     "metadata": {},
     "outputs": [],
     "prompt_number": 2
    },
    {
     "cell_type": "code",
     "collapsed": false,
     "input": [
      "import pandas as pd\n",
      "import numpy as np\n",
      "import matplotlib.pyplot as plt\n",
      "from scipy import interp\n",
      "from sklearn.ensemble import RandomForestClassifier\n",
      "from sklearn.multiclass import OneVsRestClassifier\n",
      "from sklearn.cross_validation import cross_val_score, StratifiedKFold, train_test_split\n",
      "from sklearn.metrics import roc_curve, roc_auc_score, auc\n",
      "from sklearn.preprocessing import LabelEncoder, label_binarize"
     ],
     "language": "python",
     "metadata": {},
     "outputs": [],
     "prompt_number": 19
    },
    {
     "cell_type": "heading",
     "level": 3,
     "metadata": {},
     "source": [
      "Loading all CHIMP and subsequent blind validation data"
     ]
    },
    {
     "cell_type": "markdown",
     "metadata": {},
     "source": [
      "These were used as training and test set in the last figure of the paper respectively. It is useful to join them here"
     ]
    },
    {
     "cell_type": "code",
     "collapsed": false,
     "input": [
      "#get the CHIMP training data\n",
      "X_chimp = pd.read_csv('data/chimp/chimp.Qsorted.rdpout.xtab.norm', delimiter=\"\\t\", index_col=0)\n",
      "y_chimp = pd.read_csv('data/chimp/sampledata.training.chimp.csv', index_col=0)\n",
      "#just make sure the labels are the same\n",
      "X_chimp.sort_index(inplace=True)\n",
      "y_chimp.sort_index(inplace=True)\n",
      "assert (X_chimp.index == y_chimp.index).all()"
     ],
     "language": "python",
     "metadata": {},
     "outputs": [],
     "prompt_number": 4
    },
    {
     "cell_type": "code",
     "collapsed": false,
     "input": [
      "## get the blind validation test data\n",
      "X_blind = pd.read_csv('data/chimp/blind.sorted.rdpout.xtab.norm',\n",
      "                        delimiter=\"\\t\", index_col=0)\n",
      "y_blind = pd.read_csv('data/chimp/sampledata.validation.blind.csv',\n",
      "                        index_col=0)\n",
      "\n",
      "X_blind.sort_index(inplace=True)\n",
      "y_blind.sort_index(inplace=True)\n",
      "assert (X_blind.index == y_blind.index).all()"
     ],
     "language": "python",
     "metadata": {},
     "outputs": [],
     "prompt_number": 5
    },
    {
     "cell_type": "code",
     "collapsed": false,
     "input": [
      "#concatenate using pandas\n",
      "X = pd.concat([X_chimp, X_blind], keys=['chimp','blind'])\n",
      "X.head()"
     ],
     "language": "python",
     "metadata": {},
     "outputs": [
      {
       "html": [
        "<div style=\"max-height:1000px;max-width:1500px;overflow:auto;\">\n",
        "<table border=\"1\" class=\"dataframe\">\n",
        "  <thead>\n",
        "    <tr style=\"text-align: right;\">\n",
        "      <th></th>\n",
        "      <th></th>\n",
        "      <th>cls_Actinobacteria</th>\n",
        "      <th>cls_Alphaproteobacteria</th>\n",
        "      <th>cls_Bacilli</th>\n",
        "      <th>cls_Bacteroidia</th>\n",
        "      <th>cls_Betaproteobacteria</th>\n",
        "      <th>cls_Clostridia</th>\n",
        "      <th>cls_Cyanobacteria</th>\n",
        "      <th>cls_Deltaproteobacteria</th>\n",
        "      <th>cls_Epsilonproteobacteria</th>\n",
        "      <th>cls_Erysipelotrichi</th>\n",
        "      <th>...</th>\n",
        "      <th>phylum_Euryarchaeota</th>\n",
        "      <th>phylum_Firmicutes</th>\n",
        "      <th>phylum_Fusobacteria</th>\n",
        "      <th>phylum_Lentisphaerae</th>\n",
        "      <th>phylum_NA</th>\n",
        "      <th>phylum_Proteobacteria</th>\n",
        "      <th>phylum_Spirochaetes</th>\n",
        "      <th>phylum_Synergistetes</th>\n",
        "      <th>phylum_TM7</th>\n",
        "      <th>phylum_Verrucomicrobia</th>\n",
        "    </tr>\n",
        "  </thead>\n",
        "  <tbody>\n",
        "    <tr>\n",
        "      <th rowspan=\"5\" valign=\"top\">chimp</th>\n",
        "      <th>003A</th>\n",
        "      <td> 0.000000</td>\n",
        "      <td> 0.000549</td>\n",
        "      <td> 0.014827</td>\n",
        "      <td> 0.002197</td>\n",
        "      <td> 0.000275</td>\n",
        "      <td> 0.230917</td>\n",
        "      <td> 0</td>\n",
        "      <td> 0.000000</td>\n",
        "      <td> 0</td>\n",
        "      <td> 0.000000</td>\n",
        "      <td>...</td>\n",
        "      <td> 0</td>\n",
        "      <td> 0.245744</td>\n",
        "      <td> 0.023064</td>\n",
        "      <td> 0</td>\n",
        "      <td> 0.000000</td>\n",
        "      <td> 0.728995</td>\n",
        "      <td> 0</td>\n",
        "      <td>NaN</td>\n",
        "      <td>NaN</td>\n",
        "      <td> 0</td>\n",
        "    </tr>\n",
        "    <tr>\n",
        "      <th>004A</th>\n",
        "      <td> 0.000000</td>\n",
        "      <td> 0.000000</td>\n",
        "      <td> 0.002486</td>\n",
        "      <td> 0.754195</td>\n",
        "      <td> 0.000000</td>\n",
        "      <td> 0.230889</td>\n",
        "      <td> 0</td>\n",
        "      <td> 0.000932</td>\n",
        "      <td> 0</td>\n",
        "      <td> 0.001865</td>\n",
        "      <td>...</td>\n",
        "      <td> 0</td>\n",
        "      <td> 0.238036</td>\n",
        "      <td> 0.000000</td>\n",
        "      <td> 0</td>\n",
        "      <td> 0.000000</td>\n",
        "      <td> 0.007147</td>\n",
        "      <td> 0</td>\n",
        "      <td>NaN</td>\n",
        "      <td>NaN</td>\n",
        "      <td> 0</td>\n",
        "    </tr>\n",
        "    <tr>\n",
        "      <th>005A</th>\n",
        "      <td> 0.006521</td>\n",
        "      <td> 0.000000</td>\n",
        "      <td> 0.026084</td>\n",
        "      <td> 0.000000</td>\n",
        "      <td> 0.000000</td>\n",
        "      <td> 0.908706</td>\n",
        "      <td> 0</td>\n",
        "      <td> 0.000000</td>\n",
        "      <td> 0</td>\n",
        "      <td> 0.054451</td>\n",
        "      <td>...</td>\n",
        "      <td> 0</td>\n",
        "      <td> 0.990545</td>\n",
        "      <td> 0.000000</td>\n",
        "      <td> 0</td>\n",
        "      <td> 0.000326</td>\n",
        "      <td> 0.002608</td>\n",
        "      <td> 0</td>\n",
        "      <td>NaN</td>\n",
        "      <td>NaN</td>\n",
        "      <td> 0</td>\n",
        "    </tr>\n",
        "    <tr>\n",
        "      <th>008A</th>\n",
        "      <td> 0.000315</td>\n",
        "      <td> 0.000000</td>\n",
        "      <td> 0.000210</td>\n",
        "      <td> 0.837024</td>\n",
        "      <td> 0.035995</td>\n",
        "      <td> 0.112499</td>\n",
        "      <td> 0</td>\n",
        "      <td> 0.000000</td>\n",
        "      <td> 0</td>\n",
        "      <td> 0.000840</td>\n",
        "      <td>...</td>\n",
        "      <td> 0</td>\n",
        "      <td> 0.113758</td>\n",
        "      <td> 0.000000</td>\n",
        "      <td> 0</td>\n",
        "      <td> 0.000000</td>\n",
        "      <td> 0.048903</td>\n",
        "      <td> 0</td>\n",
        "      <td>NaN</td>\n",
        "      <td>NaN</td>\n",
        "      <td> 0</td>\n",
        "    </tr>\n",
        "    <tr>\n",
        "      <th>009A</th>\n",
        "      <td> 0.001291</td>\n",
        "      <td> 0.000000</td>\n",
        "      <td> 0.001550</td>\n",
        "      <td> 0.823864</td>\n",
        "      <td> 0.024277</td>\n",
        "      <td> 0.118027</td>\n",
        "      <td> 0</td>\n",
        "      <td> 0.000000</td>\n",
        "      <td> 0</td>\n",
        "      <td> 0.000000</td>\n",
        "      <td>...</td>\n",
        "      <td> 0</td>\n",
        "      <td> 0.119576</td>\n",
        "      <td> 0.000000</td>\n",
        "      <td> 0</td>\n",
        "      <td> 0.000000</td>\n",
        "      <td> 0.055269</td>\n",
        "      <td> 0</td>\n",
        "      <td>NaN</td>\n",
        "      <td>NaN</td>\n",
        "      <td> 0</td>\n",
        "    </tr>\n",
        "  </tbody>\n",
        "</table>\n",
        "<p>5 rows \u00d7 284 columns</p>\n",
        "</div>"
       ],
       "metadata": {},
       "output_type": "pyout",
       "prompt_number": 6,
       "text": [
        "            cls_Actinobacteria  cls_Alphaproteobacteria  cls_Bacilli  \\\n",
        "chimp 003A            0.000000                 0.000549     0.014827   \n",
        "      004A            0.000000                 0.000000     0.002486   \n",
        "      005A            0.006521                 0.000000     0.026084   \n",
        "      008A            0.000315                 0.000000     0.000210   \n",
        "      009A            0.001291                 0.000000     0.001550   \n",
        "\n",
        "            cls_Bacteroidia  cls_Betaproteobacteria  cls_Clostridia  \\\n",
        "chimp 003A         0.002197                0.000275        0.230917   \n",
        "      004A         0.754195                0.000000        0.230889   \n",
        "      005A         0.000000                0.000000        0.908706   \n",
        "      008A         0.837024                0.035995        0.112499   \n",
        "      009A         0.823864                0.024277        0.118027   \n",
        "\n",
        "            cls_Cyanobacteria  cls_Deltaproteobacteria  \\\n",
        "chimp 003A                  0                 0.000000   \n",
        "      004A                  0                 0.000932   \n",
        "      005A                  0                 0.000000   \n",
        "      008A                  0                 0.000000   \n",
        "      009A                  0                 0.000000   \n",
        "\n",
        "            cls_Epsilonproteobacteria  cls_Erysipelotrichi  \\\n",
        "chimp 003A                          0             0.000000   \n",
        "      004A                          0             0.001865   \n",
        "      005A                          0             0.054451   \n",
        "      008A                          0             0.000840   \n",
        "      009A                          0             0.000000   \n",
        "\n",
        "                     ...            phylum_Euryarchaeota  phylum_Firmicutes  \\\n",
        "chimp 003A           ...                               0           0.245744   \n",
        "      004A           ...                               0           0.238036   \n",
        "      005A           ...                               0           0.990545   \n",
        "      008A           ...                               0           0.113758   \n",
        "      009A           ...                               0           0.119576   \n",
        "\n",
        "            phylum_Fusobacteria  phylum_Lentisphaerae  phylum_NA  \\\n",
        "chimp 003A             0.023064                     0   0.000000   \n",
        "      004A             0.000000                     0   0.000000   \n",
        "      005A             0.000000                     0   0.000326   \n",
        "      008A             0.000000                     0   0.000000   \n",
        "      009A             0.000000                     0   0.000000   \n",
        "\n",
        "            phylum_Proteobacteria  phylum_Spirochaetes  phylum_Synergistetes  \\\n",
        "chimp 003A               0.728995                    0                   NaN   \n",
        "      004A               0.007147                    0                   NaN   \n",
        "      005A               0.002608                    0                   NaN   \n",
        "      008A               0.048903                    0                   NaN   \n",
        "      009A               0.055269                    0                   NaN   \n",
        "\n",
        "            phylum_TM7  phylum_Verrucomicrobia  \n",
        "chimp 003A         NaN                       0  \n",
        "      004A         NaN                       0  \n",
        "      005A         NaN                       0  \n",
        "      008A         NaN                       0  \n",
        "      009A         NaN                       0  \n",
        "\n",
        "[5 rows x 284 columns]"
       ]
      }
     ],
     "prompt_number": 6
    },
    {
     "cell_type": "code",
     "collapsed": false,
     "input": [
      "X.fillna(value=0,inplace=True)"
     ],
     "language": "python",
     "metadata": {},
     "outputs": [],
     "prompt_number": 7
    },
    {
     "cell_type": "code",
     "collapsed": false,
     "input": [
      "y_dx = pd.concat([y_chimp.dx, y_blind.dx], keys=['chimp','blind'])\n",
      "y_dx #btw, what joy is to use pandas over R/dplyr for this. so intuitive and fast."
     ],
     "language": "python",
     "metadata": {},
     "outputs": [
      {
       "metadata": {},
       "output_type": "pyout",
       "prompt_number": 8,
       "text": [
        "       sample\n",
        "chimp  003A      UC\n",
        "       004A      UC\n",
        "       005A      NM\n",
        "       008A      CD\n",
        "       009A      UC\n",
        "       012A      UC\n",
        "       016A      CD\n",
        "       018A      CD\n",
        "       024A      NM\n",
        "       025A      CD\n",
        "       026A      UC\n",
        "       027A      UC\n",
        "       030A      NM\n",
        "       031A      NM\n",
        "       034B      UC\n",
        "...\n",
        "blind  251-AX    CD\n",
        "       252-AX    CD\n",
        "       253-AZ    UC\n",
        "       254-AX    CD\n",
        "       255-AZ    UC\n",
        "       256-AX    CD\n",
        "       258-AZ    CD\n",
        "       259-AX    NM\n",
        "       260-AY    CD\n",
        "       261-AX    UC\n",
        "       262-AZ    CD\n",
        "       263-AX    UC\n",
        "       264-AX    NM\n",
        "       265-AX    UC\n",
        "       291-AX    CD\n",
        "Name: dx, Length: 158, dtype: object"
       ]
      }
     ],
     "prompt_number": 8
    },
    {
     "cell_type": "code",
     "collapsed": false,
     "input": [
      "#convert the training and testing labels to numerical values\n",
      "le = LabelEncoder()\n",
      "le.fit(y_dx)\n",
      "y = le.transform(y_dx)\n",
      "# just for reference, the columns of the binarized label read respectively:\n",
      "le.inverse_transform([0,1,2])"
     ],
     "language": "python",
     "metadata": {},
     "outputs": [
      {
       "metadata": {},
       "output_type": "pyout",
       "prompt_number": 9,
       "text": [
        "array(['CD', 'NM', 'UC'], dtype=object)"
       ]
      }
     ],
     "prompt_number": 9
    },
    {
     "cell_type": "heading",
     "level": 3,
     "metadata": {},
     "source": [
      "Run vanilla multiclass classifier"
     ]
    },
    {
     "cell_type": "code",
     "collapsed": false,
     "input": [
      "clf = RandomForestClassifier(n_estimators=50, oob_score=True)\n",
      "clf.fit(X.values, y)\n",
      "scores = cross_val_score(clf, X.values, y, cv=10)\n",
      "\n",
      "print(\"Cross validation score:\")\n",
      "print(scores.mean())\n",
      "\n",
      "importances = clf.feature_importances_\n",
      "std = np.std([tree.feature_importances_ for tree in clf.estimators_],axis = 0)\n",
      "indices = np.argsort(importances)[::-1]\n",
      "\n",
      "print(\"feature ranking:\")\n",
      "\n",
      "for f in range(20):\n",
      "    print(\"%d. feature %d (%f)\" % (f + 1, indices[f], importances[indices[f]]))"
     ],
     "language": "python",
     "metadata": {},
     "outputs": [
      {
       "output_type": "stream",
       "stream": "stdout",
       "text": [
        "Cross validation score:\n",
        "0.557016806723\n",
        "feature ranking:\n",
        "1. feature 92 (0.025412)\n",
        "2. feature 145 (0.024013)\n",
        "3. feature 2 (0.021496)\n",
        "4. feature 223 (0.020470)\n",
        "5. feature 12 (0.019681)\n",
        "6. feature 71 (0.018984)\n",
        "7. feature 183 (0.017723)\n",
        "8. feature 3 (0.015555)\n",
        "9. feature 278 (0.015415)\n",
        "10. feature 25 (0.015398)\n",
        "11. feature 51 (0.015201)\n",
        "12. feature 249 (0.015147)\n",
        "13. feature 52 (0.015025)\n",
        "14. feature 243 (0.014872)\n",
        "15. feature 106 (0.014402)\n",
        "16. feature 245 (0.014290)\n",
        "17. feature 66 (0.014211)\n",
        "18. feature 60 (0.014115)\n",
        "19. feature 186 (0.013971)\n",
        "20. feature 256 (0.012586)\n"
       ]
      }
     ],
     "prompt_number": 10
    },
    {
     "cell_type": "heading",
     "level": 3,
     "metadata": {},
     "source": [
      "Build a One-vs-all ROC curve (not cross validated)"
     ]
    },
    {
     "cell_type": "markdown",
     "metadata": {},
     "source": [
      "To build a ROC curve we need to binarize the variable and run the classifier as one class vs. all others"
     ]
    },
    {
     "cell_type": "code",
     "collapsed": false,
     "input": [
      "y_bin = label_binarize(y,classes=[0,1,2])\n",
      "n_classes = y_bin.shape[1]"
     ],
     "language": "python",
     "metadata": {},
     "outputs": [],
     "prompt_number": 11
    },
    {
     "cell_type": "code",
     "collapsed": false,
     "input": [
      "X_train, X_test, y_train, y_test = train_test_split(X.values, y_bin, test_size=.3)"
     ],
     "language": "python",
     "metadata": {},
     "outputs": [],
     "prompt_number": 12
    },
    {
     "cell_type": "code",
     "collapsed": false,
     "input": [
      "clf1 = OneVsRestClassifier(RandomForestClassifier(n_estimators=50))\n",
      "y_score = clf1.fit(X_train, y_train).predict_proba(X_test)"
     ],
     "language": "python",
     "metadata": {},
     "outputs": [
      {
       "output_type": "stream",
       "stream": "stderr",
       "text": [
        "/usr/local/lib/python3.4/site-packages/sklearn/utils/__init__.py:93: DeprecationWarning: Function multilabel_ is deprecated; Attribute multilabel_ is deprecated and will be removed in 0.17. Use 'y_type_.startswith('multilabel')' instead\n",
        "  warnings.warn(msg, category=DeprecationWarning)\n"
       ]
      }
     ],
     "prompt_number": 13
    },
    {
     "cell_type": "markdown",
     "metadata": {},
     "source": [
      "We then need to introduce some cross validation, to get an indication of how robust is this model:"
     ]
    },
    {
     "cell_type": "code",
     "collapsed": false,
     "input": [
      "y_score[:10,:]"
     ],
     "language": "python",
     "metadata": {},
     "outputs": [
      {
       "metadata": {},
       "output_type": "pyout",
       "prompt_number": 14,
       "text": [
        "array([[ 0.08,  0.18,  0.76],\n",
        "       [ 0.46,  0.16,  0.32],\n",
        "       [ 0.28,  0.64,  0.16],\n",
        "       [ 0.24,  0.24,  0.52],\n",
        "       [ 0.48,  0.72,  0.18],\n",
        "       [ 0.4 ,  0.18,  0.76],\n",
        "       [ 0.6 ,  0.24,  0.24],\n",
        "       [ 0.08,  0.06,  0.74],\n",
        "       [ 0.1 ,  0.  ,  0.9 ],\n",
        "       [ 0.5 ,  0.06,  0.5 ]])"
       ]
      }
     ],
     "prompt_number": 14
    },
    {
     "cell_type": "code",
     "collapsed": false,
     "input": [
      "# Compute ROC curve and ROC area for each class\n",
      "fpr = dict()\n",
      "tpr = dict()\n",
      "roc_auc = dict()\n",
      "for i in range(n_classes):\n",
      "    fpr[i], tpr[i], _ = roc_curve(y_test[:, i], y_score[:, i])\n",
      "    roc_auc[i] = roc_auc_score(y_test[:,i], y_score[:,i],average=\"micro\")"
     ],
     "language": "python",
     "metadata": {},
     "outputs": [],
     "prompt_number": 15
    },
    {
     "cell_type": "code",
     "collapsed": false,
     "input": [
      "# Plot of a ROC curve for a specific class\n",
      "plt.figure()\n",
      "plt.plot(fpr[2], tpr[2], label='ROC curve (area = %0.2f)' % roc_auc[2])\n",
      "plt.plot([0, 1], [0, 1], 'k--')\n",
      "plt.xlim([0.0, 1.0])\n",
      "plt.ylim([0.0, 1.05])\n",
      "plt.xlabel('False Positive Rate')\n",
      "plt.ylabel('True Positive Rate')\n",
      "plt.title('ROC - UC vs all')\n",
      "plt.legend(loc=\"lower right\")\n",
      "plt.show()"
     ],
     "language": "python",
     "metadata": {},
     "outputs": [
      {
       "metadata": {},
       "output_type": "display_data",
       "png": "[encoded data removed]",
       "text": [
        "<matplotlib.figure.Figure at 0x1080d2eb8>"
       ]
      }
     ],
     "prompt_number": 16
    },
    {
     "cell_type": "code",
     "collapsed": false,
     "input": [
      "# Plot ROC curve\n",
      "plt.figure()\n",
      "\n",
      "for i in range(n_classes):\n",
      "    plt.plot(fpr[i], tpr[i], label='ROC curve {0} (area = {1:0.2f})'\n",
      "                                   ''.format(le.inverse_transform(i), roc_auc[i]))\n",
      "\n",
      "plt.plot([0, 1], [0, 1], 'k--')\n",
      "plt.xlim([0.0, 1.0])\n",
      "plt.ylim([0.0, 1.05])\n",
      "plt.xlabel('False Positive Rate')\n",
      "plt.ylabel('True Positive Rate')\n",
      "plt.title('ROC - one random 1/3 split')\n",
      "plt.legend(loc=\"lower right\")\n",
      "plt.show()"
     ],
     "language": "python",
     "metadata": {},
     "outputs": [
      {
       "metadata": {},
       "output_type": "display_data",
       "png": "[encoded data removed]",
       "text": [
        "<matplotlib.figure.Figure at 0x10adcee80>"
       ]
      }
     ],
     "prompt_number": 17
    },
    {
     "cell_type": "heading",
     "level": 3,
     "metadata": {},
     "source": [
      "ROC cross validated, one vs. all - Figure 6A"
     ]
    },
    {
     "cell_type": "code",
     "collapsed": false,
     "input": [
      "# Run classifier with cross-validation and plot ROC curves\n",
      "for dx in range(n_classes):\n",
      "    cv = StratifiedKFold(y_bin[:,dx], n_folds=10)\n",
      "    classifier = RandomForestClassifier()\n",
      "\n",
      "    mean_tpr = 0.0\n",
      "    mean_fpr = np.linspace(0, 1, 100)\n",
      "    all_tpr = []\n",
      "\n",
      "    for i, (train, test) in enumerate(cv):\n",
      "        probas_ = classifier.fit(X.iloc[train], y_bin[train,dx]).predict_proba(X.iloc[test])\n",
      "        # Compute ROC curve and area the curve\n",
      "        fpr, tpr, thresholds = roc_curve(y_bin[test,dx], probas_[:, 1])\n",
      "        mean_tpr += interp(mean_fpr, fpr, tpr)\n",
      "        mean_tpr[0] = 0.0\n",
      "        roc_auc = auc(fpr, tpr)\n",
      "        #plt.plot(fpr, tpr, lw=1, label='ROC fold %d (area = %0.2f)' % (i, roc_auc))\n",
      "\n",
      "\n",
      "    mean_tpr /= len(cv)\n",
      "    mean_tpr[-1] = 1.0\n",
      "    mean_auc = auc(mean_fpr, mean_tpr)\n",
      "    plt.plot(mean_fpr, mean_tpr, \n",
      "             label='Mean ROC %s (area = %0.2f)' % (le.inverse_transform(dx), mean_auc), lw=1)\n",
      "\n",
      "plt.xlim([-0.05, 1.05])\n",
      "plt.ylim([-0.05, 1.05])\n",
      "plt.xlabel('False Positive Rate')\n",
      "plt.ylabel('True Positive Rate')\n",
      "plt.title('Figure 6A - ROC - crossvalidated - one vs. all')\n",
      "plt.legend(loc=\"lower right\")\n",
      "plt.show()"
     ],
     "language": "python",
     "metadata": {},
     "outputs": [
      {
       "metadata": {},
       "output_type": "display_data",
       "png": "[encoded data removed]",
       "text": [
        "<matplotlib.figure.Figure at 0x10af294a8>"
       ]
      }
     ],
     "prompt_number": 20
    },
    {
     "cell_type": "code",
     "collapsed": false,
     "input": [
      "# Only CD vs UC\n",
      "\n",
      "X_cduc = X[(y == 0) | (y == 2)]\n",
      "y_cduc = y[(y == 0) | (y == 2)]\n",
      "np.place(y_cduc,y_cduc == 2, 1)\n",
      "\n",
      "cv = StratifiedKFold(y_cduc, n_folds=10)\n",
      "clf_cduc = RandomForestClassifier()\n",
      "\n",
      "mean_tpr = 0.0\n",
      "mean_fpr = np.linspace(0, 1, 100)\n",
      "all_tpr = []\n",
      "\n",
      "for i, (train, test) in enumerate(cv):\n",
      "    fitted = classifier.fit(X_cduc.iloc[train], y_cduc[train])\n",
      "    probas_ = fitted.predict_proba(X_cduc.iloc[test])\n",
      "    scored_ = fitted.predict(X_cduc.iloc[test])\n",
      "    # Compute ROC curve and area the curve\n",
      "    fpr, tpr, thresholds = roc_curve(y_cduc[test], probas_[:, 1])\n",
      "    mean_tpr += interp(mean_fpr, fpr, tpr)\n",
      "    mean_tpr[0] = 0.0\n",
      "    #roc_auc = auc(fpr, tpr)\n",
      "    roc_auc = roc_auc_score(scored_, y_cduc[test], average=\"micro\")\n",
      "    #plt.plot(fpr, tpr, lw=1, label='ROC fold %d (area = %0.2f)' % (i, roc_auc))\n",
      "\n",
      "\n",
      "mean_tpr /= len(cv)\n",
      "mean_tpr[-1] = 1.0\n",
      "mean_auc = auc(mean_fpr, mean_tpr)\n",
      "plt.plot(mean_fpr, mean_tpr, \n",
      "         label='Mean ROC (area = %0.2f)' % mean_auc, lw=1)\n",
      "\n",
      "plt.xlim([-0.05, 1.05])\n",
      "plt.ylim([-0.05, 1.05])\n",
      "plt.xlabel('False Positive Rate')\n",
      "plt.ylabel('True Positive Rate')\n",
      "plt.title('Figure 6A - ROC - crossvalidated - CD vs UC')\n",
      "plt.legend(loc=\"lower right\")\n",
      "plt.show()"
     ],
     "language": "python",
     "metadata": {},
     "outputs": [
      {
       "metadata": {},
       "output_type": "display_data",
       "png": "[encoded data removed]",
       "text": [
        "<matplotlib.figure.Figure at 0x114c1ec88>"
       ]
      }
     ],
     "prompt_number": 171
    }
   ],
   "metadata": {}
  }
 ]
}